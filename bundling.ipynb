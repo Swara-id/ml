{
 "cells": [
  {
   "cell_type": "markdown",
   "metadata": {},
   "source": [
    "# bundling model scaler dan classification"
   ]
  },
  {
   "cell_type": "code",
   "execution_count": 35,
   "metadata": {},
   "outputs": [
    {
     "data": {
      "text/html": [
       "<div>\n",
       "<style scoped>\n",
       "    .dataframe tbody tr th:only-of-type {\n",
       "        vertical-align: middle;\n",
       "    }\n",
       "\n",
       "    .dataframe tbody tr th {\n",
       "        vertical-align: top;\n",
       "    }\n",
       "\n",
       "    .dataframe thead th {\n",
       "        text-align: right;\n",
       "    }\n",
       "</style>\n",
       "<table border=\"1\" class=\"dataframe\">\n",
       "  <thead>\n",
       "    <tr style=\"text-align: right;\">\n",
       "      <th></th>\n",
       "      <th>0</th>\n",
       "      <th>1</th>\n",
       "      <th>2</th>\n",
       "      <th>3</th>\n",
       "      <th>4</th>\n",
       "      <th>5</th>\n",
       "      <th>6</th>\n",
       "      <th>7</th>\n",
       "      <th>8</th>\n",
       "      <th>9</th>\n",
       "      <th>...</th>\n",
       "      <th>53</th>\n",
       "      <th>54</th>\n",
       "      <th>55</th>\n",
       "      <th>56</th>\n",
       "      <th>57</th>\n",
       "      <th>58</th>\n",
       "      <th>59</th>\n",
       "      <th>60</th>\n",
       "      <th>61</th>\n",
       "      <th>62</th>\n",
       "    </tr>\n",
       "  </thead>\n",
       "  <tbody>\n",
       "    <tr>\n",
       "      <th>0</th>\n",
       "      <td>-0.481475</td>\n",
       "      <td>-0.200421</td>\n",
       "      <td>-0.280055</td>\n",
       "      <td>-0.711333</td>\n",
       "      <td>-0.013272</td>\n",
       "      <td>0.236831</td>\n",
       "      <td>-0.984159</td>\n",
       "      <td>0.143833</td>\n",
       "      <td>0.273099</td>\n",
       "      <td>-1.183088</td>\n",
       "      <td>...</td>\n",
       "      <td>0.570091</td>\n",
       "      <td>-0.715013</td>\n",
       "      <td>-0.266184</td>\n",
       "      <td>0.569352</td>\n",
       "      <td>-0.740524</td>\n",
       "      <td>-0.1082</td>\n",
       "      <td>0.607564</td>\n",
       "      <td>-0.70986</td>\n",
       "      <td>-0.013558</td>\n",
       "      <td>0.625611</td>\n",
       "    </tr>\n",
       "  </tbody>\n",
       "</table>\n",
       "<p>1 rows × 63 columns</p>\n",
       "</div>"
      ],
      "text/plain": [
       "          0         1         2         3         4         5         6  \\\n",
       "0 -0.481475 -0.200421 -0.280055 -0.711333 -0.013272  0.236831 -0.984159   \n",
       "\n",
       "          7         8         9  ...        53        54        55        56  \\\n",
       "0  0.143833  0.273099 -1.183088  ...  0.570091 -0.715013 -0.266184  0.569352   \n",
       "\n",
       "         57      58        59       60        61        62  \n",
       "0 -0.740524 -0.1082  0.607564 -0.70986 -0.013558  0.625611  \n",
       "\n",
       "[1 rows x 63 columns]"
      ]
     },
     "metadata": {},
     "output_type": "display_data"
    },
    {
     "data": {
      "text/html": [
       "<div>\n",
       "<style scoped>\n",
       "    .dataframe tbody tr th:only-of-type {\n",
       "        vertical-align: middle;\n",
       "    }\n",
       "\n",
       "    .dataframe tbody tr th {\n",
       "        vertical-align: top;\n",
       "    }\n",
       "\n",
       "    .dataframe thead th {\n",
       "        text-align: right;\n",
       "    }\n",
       "</style>\n",
       "<table border=\"1\" class=\"dataframe\">\n",
       "  <thead>\n",
       "    <tr style=\"text-align: right;\">\n",
       "      <th></th>\n",
       "      <th>0</th>\n",
       "      <th>1</th>\n",
       "      <th>2</th>\n",
       "      <th>3</th>\n",
       "      <th>4</th>\n",
       "      <th>5</th>\n",
       "      <th>6</th>\n",
       "      <th>7</th>\n",
       "      <th>8</th>\n",
       "      <th>9</th>\n",
       "      <th>...</th>\n",
       "      <th>56</th>\n",
       "      <th>57</th>\n",
       "      <th>58</th>\n",
       "      <th>59</th>\n",
       "      <th>60</th>\n",
       "      <th>61</th>\n",
       "      <th>62</th>\n",
       "      <th>63</th>\n",
       "      <th>64</th>\n",
       "      <th>65</th>\n",
       "    </tr>\n",
       "  </thead>\n",
       "  <tbody>\n",
       "    <tr>\n",
       "      <th>0</th>\n",
       "      <td>1.0</td>\n",
       "      <td>0.0</td>\n",
       "      <td>0.0</td>\n",
       "      <td>0.0</td>\n",
       "      <td>0.0</td>\n",
       "      <td>0.0</td>\n",
       "      <td>0.0</td>\n",
       "      <td>0.0</td>\n",
       "      <td>0.0</td>\n",
       "      <td>0.0</td>\n",
       "      <td>...</td>\n",
       "      <td>0.0</td>\n",
       "      <td>0.0</td>\n",
       "      <td>0.0</td>\n",
       "      <td>0.0</td>\n",
       "      <td>0.0</td>\n",
       "      <td>0.0</td>\n",
       "      <td>0.0</td>\n",
       "      <td>0.0</td>\n",
       "      <td>0.0</td>\n",
       "      <td>0.0</td>\n",
       "    </tr>\n",
       "  </tbody>\n",
       "</table>\n",
       "<p>1 rows × 66 columns</p>\n",
       "</div>"
      ],
      "text/plain": [
       "     0    1    2    3    4    5    6    7    8    9  ...   56   57   58   59  \\\n",
       "0  1.0  0.0  0.0  0.0  0.0  0.0  0.0  0.0  0.0  0.0  ...  0.0  0.0  0.0  0.0   \n",
       "\n",
       "    60   61   62   63   64   65  \n",
       "0  0.0  0.0  0.0  0.0  0.0  0.0  \n",
       "\n",
       "[1 rows x 66 columns]"
      ]
     },
     "metadata": {},
     "output_type": "display_data"
    }
   ],
   "source": [
    "from sklearn.model_selection import train_test_split\n",
    "import tensorflow as tf\n",
    "from tensorflow.keras.models import load_model\n",
    "from tensorflow.keras.layers import Input, Dense, BatchNormalization, Dropout\n",
    "from tensorflow.keras.models import Model\n",
    "from tensorflow.keras.optimizers import Adam\n",
    "from tensorflow.keras.callbacks import EarlyStopping\n",
    "import pandas as pd\n",
    "\n",
    "X_scaled = pd.read_csv('./ready-train.csv')\n",
    "y_one_hot = pd.read_csv('./ready-y.csv')\n",
    "\n",
    "display(X_scaled.head(1), y_one_hot.head(1))"
   ]
  },
  {
   "cell_type": "code",
   "execution_count": null,
   "metadata": {},
   "outputs": [],
   "source": []
  },
  {
   "cell_type": "code",
   "execution_count": 36,
   "metadata": {},
   "outputs": [
    {
     "data": {
      "text/plain": [
       "63"
      ]
     },
     "execution_count": 36,
     "metadata": {},
     "output_type": "execute_result"
    }
   ],
   "source": [
    "X_train, X_test, y_train, y_test = train_test_split(\n",
    "    X_scaled, y_one_hot, test_size=0.2, random_state=42\n",
    ")\n",
    "\n",
    "X_train.shape[1]"
   ]
  },
  {
   "cell_type": "code",
   "execution_count": 37,
   "metadata": {},
   "outputs": [
    {
     "name": "stdout",
     "output_type": "stream",
     "text": [
      "Epoch 1/10\n",
      "551/551 [==============================] - 2s 2ms/step - loss: 1.6792 - accuracy: 0.7565 - val_loss: 0.3107 - val_accuracy: 0.9489\n",
      "Epoch 2/10\n",
      "551/551 [==============================] - 1s 1ms/step - loss: 0.2988 - accuracy: 0.9455 - val_loss: 0.2865 - val_accuracy: 0.9496\n",
      "Epoch 3/10\n",
      "551/551 [==============================] - 1s 1ms/step - loss: 0.2572 - accuracy: 0.9498 - val_loss: 0.2194 - val_accuracy: 0.9566\n",
      "Epoch 4/10\n",
      "551/551 [==============================] - 1s 1ms/step - loss: 0.2133 - accuracy: 0.9565 - val_loss: 0.2455 - val_accuracy: 0.9519\n",
      "Epoch 5/10\n",
      "551/551 [==============================] - 1s 1ms/step - loss: 0.2324 - accuracy: 0.9509 - val_loss: 0.2221 - val_accuracy: 0.9571\n",
      "Epoch 6/10\n",
      "551/551 [==============================] - 1s 1ms/step - loss: 0.2153 - accuracy: 0.9537 - val_loss: 0.2049 - val_accuracy: 0.9580\n",
      "Epoch 7/10\n",
      "551/551 [==============================] - 1s 1ms/step - loss: 0.2082 - accuracy: 0.9544 - val_loss: 0.1899 - val_accuracy: 0.9637\n",
      "Epoch 8/10\n",
      "551/551 [==============================] - 1s 1ms/step - loss: 0.2107 - accuracy: 0.9550 - val_loss: 0.2192 - val_accuracy: 0.9582\n",
      "Epoch 9/10\n",
      "551/551 [==============================] - 1s 1ms/step - loss: 0.2293 - accuracy: 0.9509 - val_loss: 0.2217 - val_accuracy: 0.9569\n",
      "Epoch 10/10\n",
      "551/551 [==============================] - 1s 1ms/step - loss: 0.2058 - accuracy: 0.9550 - val_loss: 0.2185 - val_accuracy: 0.9566\n"
     ]
    }
   ],
   "source": [
    "# Muat model scaler dari file .h5\n",
    "scaler_model = load_model('standard_scaler_model.h5')\n",
    "\n",
    "total_class = y_one_hot.shape[1]\n",
    "\n",
    "# Definisikan input layer\n",
    "input_layer = Input(shape=(X_train.shape[1],), name='input')\n",
    "scaled_input = scaler_model(input_layer)\n",
    "\n",
    "# Tambahkan layer neural network\n",
    "x = Dense(64, activation=\"relu\")(scaled_input)\n",
    "x = Dense(32, activation=\"relu\")(x)\n",
    "# x = Dropout(0.5)(x)\n",
    "\n",
    "output_layer = Dense(total_class, activation=\"softmax\")(x)\n",
    "\n",
    "# Buat model yang menggabungkan scaler dan neural network\n",
    "combined_model = Model(inputs=input_layer, outputs=output_layer)\n",
    "\n",
    "combined_model.compile(loss=\"categorical_crossentropy\", optimizer=\"adam\", metrics=[\"accuracy\"])\n",
    "history = combined_model.fit(\n",
    "    # X_train, y_train, epochs=100, batch_size=32, validation_data=(X_test, y_test)\n",
    "    X_train, y_train, epochs=10, batch_size=32, validation_data=(X_test, y_test)\n",
    ")"
   ]
  },
  {
   "cell_type": "code",
   "execution_count": 38,
   "metadata": {},
   "outputs": [
    {
     "name": "stdout",
     "output_type": "stream",
     "text": [
      "Model: \"model_2\"\n",
      "_________________________________________________________________\n",
      " Layer (type)                Output Shape              Param #   \n",
      "=================================================================\n",
      " input (InputLayer)          [(None, 63)]              0         \n",
      "                                                                 \n",
      " sequential_28 (Sequential)  (None, 66)                8610      \n",
      "                                                                 \n",
      " dense_6 (Dense)             (None, 64)                4288      \n",
      "                                                                 \n",
      " dense_7 (Dense)             (None, 32)                2080      \n",
      "                                                                 \n",
      " dense_8 (Dense)             (None, 66)                2178      \n",
      "                                                                 \n",
      "=================================================================\n",
      "Total params: 17156 (67.02 KB)\n",
      "Trainable params: 17028 (66.52 KB)\n",
      "Non-trainable params: 128 (512.00 Byte)\n",
      "_________________________________________________________________\n",
      "None\n"
     ]
    },
    {
     "name": "stderr",
     "output_type": "stream",
     "text": [
      "c:\\Users\\whisn\\anaconda3\\envs\\bangkitcourse\\lib\\site-packages\\keras\\src\\engine\\training.py:3103: UserWarning: You are saving your model as an HDF5 file via `model.save()`. This file format is considered legacy. We recommend using instead the native Keras format, e.g. `model.save('my_model.keras')`.\n",
      "  saving_api.save_model(\n"
     ]
    },
    {
     "name": "stdout",
     "output_type": "stream",
     "text": [
      "INFO:tensorflow:Assets written to: C:\\Users\\whisn\\AppData\\Local\\Temp\\tmp9jdduq_f\\assets\n"
     ]
    },
    {
     "name": "stderr",
     "output_type": "stream",
     "text": [
      "INFO:tensorflow:Assets written to: C:\\Users\\whisn\\AppData\\Local\\Temp\\tmp9jdduq_f\\assets\n"
     ]
    },
    {
     "name": "stdout",
     "output_type": "stream",
     "text": [
      "Model loaded successfully with no errors.\n"
     ]
    }
   ],
   "source": [
    "model_name = \"bundling-scale-and-calssification-19am\"\n",
    "model_path = f\"{model_name}.h5\"\n",
    "combined_model.save(model_path)\n",
    "print(combined_model.summary())\n",
    "\n",
    "# Memuat kembali model tanpa custom_objects\n",
    "model_load = tf.keras.models.load_model(model_path)\n",
    "\n",
    "# Convert the model to TFLite format\n",
    "converter = tf.lite.TFLiteConverter.from_keras_model(combined_model)\n",
    "tflite_model = converter.convert()\n",
    "\n",
    "# Save the TFLite model\n",
    "with open(f\"{model_name}.tflite\", \"wb\") as f:\n",
    "    f.write(tflite_model)\n",
    "\n",
    "# Load the TFLite model and check for errors\n",
    "interpreter = tf.lite.Interpreter(model_path=f\"{model_name}.tflite\")\n",
    "interpreter.allocate_tensors()\n",
    "\n",
    "print(\"Model loaded successfully with no errors.\")"
   ]
  },
  {
   "cell_type": "code",
   "execution_count": 39,
   "metadata": {},
   "outputs": [
    {
     "name": "stdout",
     "output_type": "stream",
     "text": [
      "Model: \"model_2\"\n",
      "_________________________________________________________________\n",
      " Layer (type)                Output Shape              Param #   \n",
      "=================================================================\n",
      " input (InputLayer)          [(None, 63)]              0         \n",
      "                                                                 \n",
      " sequential_28 (Sequential)  (None, 66)                8610      \n",
      "                                                                 \n",
      " dense_6 (Dense)             (None, 64)                4288      \n",
      "                                                                 \n",
      " dense_7 (Dense)             (None, 32)                2080      \n",
      "                                                                 \n",
      " dense_8 (Dense)             (None, 66)                2178      \n",
      "                                                                 \n",
      "=================================================================\n",
      "Total params: 17156 (67.02 KB)\n",
      "Trainable params: 17028 (66.52 KB)\n",
      "Non-trainable params: 128 (512.00 Byte)\n",
      "_________________________________________________________________\n"
     ]
    }
   ],
   "source": [
    "model_load = tf.keras.models.load_model(model_path)\n",
    "model_load.summary()"
   ]
  },
  {
   "cell_type": "code",
   "execution_count": 40,
   "metadata": {},
   "outputs": [],
   "source": [
    "import joblib\n",
    "label_encoder = joblib.load(\"label_encoder.pkl\")"
   ]
  },
  {
   "cell_type": "code",
   "execution_count": 41,
   "metadata": {},
   "outputs": [
    {
     "name": "stdout",
     "output_type": "stream",
     "text": [
      "138/138 [==============================] - 0s 876us/step\n",
      "['S' 'Hari ini' 'Malam' 'I' 'Sekarang']\n",
      "['A' 'Hari ini' 'Malam' 'I' 'Sekarang']\n"
     ]
    }
   ],
   "source": [
    "y_pred = model_load.predict(X_test)\n",
    "y_pred_label = label_encoder.inverse_transform(y_pred.argmax(axis=1))\n",
    "print(y_pred_label[:5])\n",
    "\n",
    "y_test_array = y_test.to_numpy()  # Konversi DataFrame ke array NumPy\n",
    "y_true_label = label_encoder.inverse_transform(y_test_array.argmax(axis=1))\n",
    "print(y_true_label[:5])"
   ]
  },
  {
   "cell_type": "code",
   "execution_count": 44,
   "metadata": {},
   "outputs": [
    {
     "name": "stdout",
     "output_type": "stream",
     "text": [
      "(4404, 68)\n"
     ]
    }
   ],
   "source": [
    "eval_df = pd.DataFrame(y_test)\n",
    "eval_df[\"true_kategorik\"] = label_encoder.inverse_transform(y_test_array.argmax(axis=1))\n",
    "eval_df[\"predicted_kategorik\"] = y_pred_label\n",
    "print(eval_df.shape)"
   ]
  },
  {
   "cell_type": "code",
   "execution_count": 46,
   "metadata": {},
   "outputs": [
    {
     "name": "stdout",
     "output_type": "stream",
     "text": [
      "(191, 68)\n"
     ]
    },
    {
     "data": {
      "text/html": [
       "<div>\n",
       "<style scoped>\n",
       "    .dataframe tbody tr th:only-of-type {\n",
       "        vertical-align: middle;\n",
       "    }\n",
       "\n",
       "    .dataframe tbody tr th {\n",
       "        vertical-align: top;\n",
       "    }\n",
       "\n",
       "    .dataframe thead th {\n",
       "        text-align: right;\n",
       "    }\n",
       "</style>\n",
       "<table border=\"1\" class=\"dataframe\">\n",
       "  <thead>\n",
       "    <tr style=\"text-align: right;\">\n",
       "      <th></th>\n",
       "      <th>true_kategorik</th>\n",
       "      <th>predicted_kategorik</th>\n",
       "    </tr>\n",
       "  </thead>\n",
       "  <tbody>\n",
       "    <tr>\n",
       "      <th>369</th>\n",
       "      <td>A</td>\n",
       "      <td>S</td>\n",
       "    </tr>\n",
       "    <tr>\n",
       "      <th>16948</th>\n",
       "      <td>Senang</td>\n",
       "      <td>Kerja</td>\n",
       "    </tr>\n",
       "    <tr>\n",
       "      <th>199</th>\n",
       "      <td>A</td>\n",
       "      <td>P</td>\n",
       "    </tr>\n",
       "    <tr>\n",
       "      <th>12829</th>\n",
       "      <td>N</td>\n",
       "      <td>M</td>\n",
       "    </tr>\n",
       "    <tr>\n",
       "      <th>3222</th>\n",
       "      <td>D</td>\n",
       "      <td>P</td>\n",
       "    </tr>\n",
       "    <tr>\n",
       "      <th>6848</th>\n",
       "      <td>Ibu</td>\n",
       "      <td>Makan</td>\n",
       "    </tr>\n",
       "    <tr>\n",
       "      <th>14064</th>\n",
       "      <td>P</td>\n",
       "      <td>B</td>\n",
       "    </tr>\n",
       "    <tr>\n",
       "      <th>1045</th>\n",
       "      <td>B</td>\n",
       "      <td>E</td>\n",
       "    </tr>\n",
       "    <tr>\n",
       "      <th>247</th>\n",
       "      <td>A</td>\n",
       "      <td>X</td>\n",
       "    </tr>\n",
       "    <tr>\n",
       "      <th>4966</th>\n",
       "      <td>G</td>\n",
       "      <td>F</td>\n",
       "    </tr>\n",
       "    <tr>\n",
       "      <th>13821</th>\n",
       "      <td>O</td>\n",
       "      <td>S</td>\n",
       "    </tr>\n",
       "    <tr>\n",
       "      <th>15456</th>\n",
       "      <td>S</td>\n",
       "      <td>O</td>\n",
       "    </tr>\n",
       "    <tr>\n",
       "      <th>7886</th>\n",
       "      <td>K</td>\n",
       "      <td>D</td>\n",
       "    </tr>\n",
       "    <tr>\n",
       "      <th>4525</th>\n",
       "      <td>F</td>\n",
       "      <td>P</td>\n",
       "    </tr>\n",
       "    <tr>\n",
       "      <th>18747</th>\n",
       "      <td>T</td>\n",
       "      <td>X</td>\n",
       "    </tr>\n",
       "    <tr>\n",
       "      <th>18899</th>\n",
       "      <td>T</td>\n",
       "      <td>P</td>\n",
       "    </tr>\n",
       "    <tr>\n",
       "      <th>5286</th>\n",
       "      <td>H</td>\n",
       "      <td>R</td>\n",
       "    </tr>\n",
       "    <tr>\n",
       "      <th>15301</th>\n",
       "      <td>S</td>\n",
       "      <td>L</td>\n",
       "    </tr>\n",
       "    <tr>\n",
       "      <th>8144</th>\n",
       "      <td>Kalian</td>\n",
       "      <td>Aku</td>\n",
       "    </tr>\n",
       "    <tr>\n",
       "      <th>11276</th>\n",
       "      <td>M</td>\n",
       "      <td>N</td>\n",
       "    </tr>\n",
       "  </tbody>\n",
       "</table>\n",
       "</div>"
      ],
      "text/plain": [
       "      true_kategorik predicted_kategorik\n",
       "369                A                   S\n",
       "16948         Senang               Kerja\n",
       "199                A                   P\n",
       "12829              N                   M\n",
       "3222               D                   P\n",
       "6848             Ibu               Makan\n",
       "14064              P                   B\n",
       "1045               B                   E\n",
       "247                A                   X\n",
       "4966               G                   F\n",
       "13821              O                   S\n",
       "15456              S                   O\n",
       "7886               K                   D\n",
       "4525               F                   P\n",
       "18747              T                   X\n",
       "18899              T                   P\n",
       "5286               H                   R\n",
       "15301              S                   L\n",
       "8144          Kalian                 Aku\n",
       "11276              M                   N"
      ]
     },
     "execution_count": 46,
     "metadata": {},
     "output_type": "execute_result"
    }
   ],
   "source": [
    "print(eval_df[eval_df[\"true_kategorik\"] != eval_df[\"predicted_kategorik\"]].shape)\n",
    "eval_df = eval_df[['true_kategorik', 'predicted_kategorik']]\n",
    "eval_df[eval_df[\"true_kategorik\"] != eval_df[\"predicted_kategorik\"]].head(20)"
   ]
  }
 ],
 "metadata": {
  "kernelspec": {
   "display_name": "bangkitcourse",
   "language": "python",
   "name": "python3"
  },
  "language_info": {
   "codemirror_mode": {
    "name": "ipython",
    "version": 3
   },
   "file_extension": ".py",
   "mimetype": "text/x-python",
   "name": "python",
   "nbconvert_exporter": "python",
   "pygments_lexer": "ipython3",
   "version": "3.9.19"
  }
 },
 "nbformat": 4,
 "nbformat_minor": 2
}
