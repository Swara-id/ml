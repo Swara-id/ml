{
 "cells": [
  {
   "cell_type": "code",
   "execution_count": 1,
   "id": "18cbf8fe-30af-4808-8986-583e3374db48",
   "metadata": {},
   "outputs": [],
   "source": [
    "import cv2\n",
    "import os"
   ]
  },
  {
   "cell_type": "code",
   "execution_count": 2,
   "id": "e6d579b3-4480-4117-96bd-e75153eb5cf3",
   "metadata": {},
   "outputs": [
    {
     "name": "stdout",
     "output_type": "stream",
     "text": [
      "All videos have been processed.\n"
     ]
    }
   ],
   "source": [
    "# Define paths\n",
    "raw_video_dir = './datasets/raw video'\n",
    "output_dir = './datasets/images'\n",
    "\n",
    "# Create the output directory if it doesn't exist\n",
    "if not os.path.exists(output_dir):\n",
    "    os.makedirs(output_dir)\n",
    "\n",
    "# Function to process each video\n",
    "def process_video(video_path):\n",
    "    video_name = os.path.basename(video_path)\n",
    "    video_name_without_ext = os.path.splitext(video_name)[0]\n",
    "    output_folder = os.path.join(output_dir, video_name_without_ext)\n",
    "    \n",
    "    # Create a directory for the current video frames\n",
    "    if not os.path.exists(output_folder):\n",
    "        os.makedirs(output_folder)\n",
    "    \n",
    "    # Capture video\n",
    "    cap = cv2.VideoCapture(video_path)\n",
    "    frame_count = 0\n",
    "\n",
    "    while True:\n",
    "        ret, frame = cap.read()\n",
    "        if not ret:\n",
    "            break\n",
    "        \n",
    "        # Save frame as image\n",
    "        frame_filename = os.path.join(output_folder, f'{frame_count:06d}.jpg')\n",
    "        cv2.imwrite(frame_filename, frame)\n",
    "        frame_count += 1\n",
    "    \n",
    "    # Release the video capture object\n",
    "    cap.release()\n",
    "\n",
    "# Loop through all video files in the raw video directory\n",
    "for filename in os.listdir(raw_video_dir):\n",
    "    if filename.endswith(('.mp4', '.avi', '.mov', '.mkv')):  # Add other video formats if needed\n",
    "        video_path = os.path.join(raw_video_dir, filename)\n",
    "        process_video(video_path)\n",
    "\n",
    "print(\"All videos have been processed.\")"
   ]
  },
  {
   "cell_type": "code",
   "execution_count": null,
   "id": "3db57dd2-80d8-47f1-b733-3668a25b81be",
   "metadata": {},
   "outputs": [],
   "source": []
  }
 ],
 "metadata": {
  "kernelspec": {
   "display_name": "Python 3 (ipykernel)",
   "language": "python",
   "name": "python3"
  },
  "language_info": {
   "codemirror_mode": {
    "name": "ipython",
    "version": 3
   },
   "file_extension": ".py",
   "mimetype": "text/x-python",
   "name": "python",
   "nbconvert_exporter": "python",
   "pygments_lexer": "ipython3",
   "version": "3.9.2"
  }
 },
 "nbformat": 4,
 "nbformat_minor": 5
}
