{
 "cells": [
  {
   "cell_type": "code",
   "execution_count": 87,
   "metadata": {},
   "outputs": [
    {
     "name": "stderr",
     "output_type": "stream",
     "text": [
      "[nltk_data] Downloading package punkt to\n",
      "[nltk_data]     C:\\Users\\whisn\\AppData\\Roaming\\nltk_data...\n",
      "[nltk_data]   Package punkt is already up-to-date!\n"
     ]
    },
    {
     "data": {
      "text/plain": [
       "True"
      ]
     },
     "execution_count": 87,
     "metadata": {},
     "output_type": "execute_result"
    }
   ],
   "source": [
    "import pandas as pd\n",
    "import gensim\n",
    "from gensim.models import Word2Vec\n",
    "from nltk.tokenize import word_tokenize\n",
    "import nltk\n",
    "from sklearn.metrics.pairwise import cosine_similarity\n",
    "import numpy as np\n",
    "import random\n",
    "\n",
    "pd.set_option('display.max_columns', None)\n",
    "pd.set_option('display.max_colwidth', None)\n",
    "\n",
    "nltk.download('punkt')"
   ]
  },
  {
   "cell_type": "markdown",
   "metadata": {},
   "source": [
    "# 1. Read KBBI"
   ]
  },
  {
   "cell_type": "code",
   "execution_count": 88,
   "metadata": {},
   "outputs": [
    {
     "data": {
      "text/html": [
       "<div>\n",
       "<style scoped>\n",
       "    .dataframe tbody tr th:only-of-type {\n",
       "        vertical-align: middle;\n",
       "    }\n",
       "\n",
       "    .dataframe tbody tr th {\n",
       "        vertical-align: top;\n",
       "    }\n",
       "\n",
       "    .dataframe thead th {\n",
       "        text-align: right;\n",
       "    }\n",
       "</style>\n",
       "<table border=\"1\" class=\"dataframe\">\n",
       "  <thead>\n",
       "    <tr style=\"text-align: right;\">\n",
       "      <th></th>\n",
       "      <th>0</th>\n",
       "    </tr>\n",
       "  </thead>\n",
       "  <tbody>\n",
       "    <tr>\n",
       "      <th>0</th>\n",
       "      <td>a</td>\n",
       "    </tr>\n",
       "    <tr>\n",
       "      <th>1</th>\n",
       "      <td>ab</td>\n",
       "    </tr>\n",
       "    <tr>\n",
       "      <th>2</th>\n",
       "      <td>aba</td>\n",
       "    </tr>\n",
       "    <tr>\n",
       "      <th>3</th>\n",
       "      <td>aba-aba</td>\n",
       "    </tr>\n",
       "    <tr>\n",
       "      <th>4</th>\n",
       "      <td>abad</td>\n",
       "    </tr>\n",
       "  </tbody>\n",
       "</table>\n",
       "</div>"
      ],
      "text/plain": [
       "         0\n",
       "0        a\n",
       "1       ab\n",
       "2      aba\n",
       "3  aba-aba\n",
       "4     abad"
      ]
     },
     "execution_count": 88,
     "metadata": {},
     "output_type": "execute_result"
    }
   ],
   "source": [
    "file_path = './kbbi.csv'\n",
    "df = pd.read_csv(file_path, header=None)\n",
    "df.head()"
   ]
  },
  {
   "cell_type": "code",
   "execution_count": 89,
   "metadata": {},
   "outputs": [
    {
     "name": "stdout",
     "output_type": "stream",
     "text": [
      "['a', 'ab', 'aba', 'aba-aba', 'abad']\n"
     ]
    }
   ],
   "source": [
    "df = pd.read_csv(file_path, header=None)\n",
    "words = df[0].tolist()\n",
    "print(words[:5])"
   ]
  },
  {
   "cell_type": "code",
   "execution_count": 90,
   "metadata": {},
   "outputs": [],
   "source": [
    "words = [str(word) for word in words if isinstance(word, str)]"
   ]
  },
  {
   "cell_type": "markdown",
   "metadata": {},
   "source": [
    "# 2. Tokenization"
   ]
  },
  {
   "cell_type": "code",
   "execution_count": 91,
   "metadata": {},
   "outputs": [
    {
     "name": "stdout",
     "output_type": "stream",
     "text": [
      "[['a'], ['ab'], ['aba'], ['aba-aba'], ['abad']]\n"
     ]
    }
   ],
   "source": [
    "sentences = [[word] for word in words]\n",
    "print(sentences[:5])"
   ]
  },
  {
   "cell_type": "code",
   "execution_count": 92,
   "metadata": {},
   "outputs": [
    {
     "name": "stdout",
     "output_type": "stream",
     "text": [
      "30341\n"
     ]
    }
   ],
   "source": [
    "print(len(sentences))"
   ]
  },
  {
   "cell_type": "markdown",
   "metadata": {},
   "source": [
    "# 3. Modelling"
   ]
  },
  {
   "cell_type": "code",
   "execution_count": 93,
   "metadata": {},
   "outputs": [
    {
     "data": {
      "text/plain": [
       "<gensim.models.word2vec.Word2Vec at 0x2070cf74d60>"
      ]
     },
     "execution_count": 93,
     "metadata": {},
     "output_type": "execute_result"
    }
   ],
   "source": [
    "model = Word2Vec(sentences, vector_size=100, window=5, min_count=1, sg=1)\n",
    "model"
   ]
  },
  {
   "cell_type": "markdown",
   "metadata": {},
   "source": [
    "# 3. Test"
   ]
  },
  {
   "cell_type": "code",
   "execution_count": 131,
   "metadata": {},
   "outputs": [
    {
     "name": "stdout",
     "output_type": "stream",
     "text": [
      "Kata-kata yang mirip dengan 'bagaimana': [('prematur', 0.3819778859615326), ('kenyut', 0.3796915113925934), ('hidrolika', 0.35573849081993103), ('ve', 0.3541423976421356), ('penis', 0.34888318181037903)]\n",
      "Kata-kata yang mirip dengan 'makan': [('diamagnetisme', 0.3716622292995453), ('dongbret', 0.36857935786247253), ('realistis', 0.36793580651283264), ('ridan', 0.3474102318286896), ('meunasah', 0.34664663672447205)]\n",
      "Kata-kata yang mirip dengan 'minum': [('hidrolisis', 0.41755184531211853), ('mazmumah', 0.3732891082763672), ('sarhad', 0.36761611700057983), ('dinul-islam', 0.35484209656715393), ('jasmaniah', 0.3514745235443115)]\n",
      "Koreksi untuk 'bagakmana': Tidak ditemukan koreksi\n",
      "Beberapa saran untuk 'bagakmana': [(None, 0)]\n"
     ]
    }
   ],
   "source": [
    "sample_words = ['bagaimana', 'makan', 'minum']\n",
    "for word in sample_words:\n",
    "    try:\n",
    "        similar_words = model.wv.most_similar(word, topn=5)\n",
    "        print(f\"Kata-kata yang mirip dengan '{word}': {similar_words}\")\n",
    "    except KeyError:\n",
    "        print(f\"Kata '{word}' tidak ditemukan dalam model\")\n",
    "\n",
    "# Langkah 5: Pengecekan Ejaan dengan Kesamaan Kosinus\n",
    "def correct_spelling(word, model, top_n=5):\n",
    "    try:\n",
    "        similar_words = model.wv.most_similar(word, topn=top_n)\n",
    "        return similar_words\n",
    "    except KeyError:\n",
    "        return [(None, 0)]\n",
    "\n",
    "# Contoh penggunaan\n",
    "misspelled_word = 'bagakmana'\n",
    "corrections = correct_spelling(misspelled_word, model)\n",
    "best_correction = corrections[0][0] if corrections[0][0] is not None else \"Tidak ditemukan koreksi\"\n",
    "\n",
    "print(f\"Koreksi untuk '{misspelled_word}': {best_correction}\")\n",
    "\n",
    "# Menampilkan beberapa hasil teratas\n",
    "print(f\"Beberapa saran untuk '{misspelled_word}': {corrections}\")"
   ]
  },
  {
   "cell_type": "code",
   "execution_count": 95,
   "metadata": {},
   "outputs": [],
   "source": [
    "from difflib import get_close_matches"
   ]
  },
  {
   "cell_type": "code",
   "execution_count": 12,
   "metadata": {},
   "outputs": [
    {
     "name": "stdout",
     "output_type": "stream",
     "text": [
      "Koreksi untuk 'bagaimans': bagaimana\n"
     ]
    }
   ],
   "source": [
    "import pandas as pd\n",
    "from difflib import get_close_matches\n",
    "\n",
    "# Fungsi untuk menghasilkan daftar kata dari file CSV dengan filter panjang kata\n",
    "def generate_word_spelling(file_path, del_thresh):\n",
    "    df = pd.read_csv(file_path, header=None)\n",
    "    filtered_df = df[df[0].str.len() >= del_thresh]\n",
    "    words = filtered_df[0].tolist()\n",
    "    return words\n",
    "\n",
    "# Fungsi Koreksi Ejaan\n",
    "def correct_spelling(word, word_list):\n",
    "    # Prioritas 1: Panjang karakter yang sama\n",
    "    same_length_words = [w for w in word_list if len(w) == len(word)]\n",
    "    close_matches = get_close_matches(word, same_length_words, n=1, cutoff=0.8)\n",
    "    \n",
    "    if close_matches:\n",
    "        return close_matches[0]\n",
    "    \n",
    "    # Prioritas 2: Ganti karakter dari belakang ke depan\n",
    "    for i in range(len(word)-1, -1, -1):\n",
    "        for char in 'abcdefghijklmnopqrstuvwxyz':\n",
    "            if char != word[i]:  # Hanya mengganti jika karakter berbeda\n",
    "                possible_word = word[:i] + char + word[i+1:]\n",
    "                if possible_word in word_list:\n",
    "                    return possible_word\n",
    "    \n",
    "    # Prioritas 3: Tambahkan karakter hanya di akhir jika tidak ada kecocokan\n",
    "    for char in 'abcdefghijklmnopqrstuvwxyz':\n",
    "        possible_word = word + char\n",
    "        if possible_word in word_list:\n",
    "            return possible_word\n",
    "    \n",
    "    return None\n",
    "\n",
    "# Contoh penggunaan\n",
    "file_path = './10k-indonesia-common-words.csv'  # Sesuaikan dengan path file Anda\n",
    "# file_path = './kbbi.csv'  # Sesuaikan dengan path file Anda\n",
    "del_thresh = 3  # Panjang minimal kata yang diizinkan\n",
    "list_word = generate_word_spelling(file_path, del_thresh)\n",
    "\n",
    "# Coba koreksi ejaan\n",
    "misspelled_word = 'bagaimans'\n",
    "corrected_word = correct_spelling(misspelled_word, list_word)\n",
    "print(f\"Koreksi untuk '{misspelled_word}': {corrected_word}\")\n"
   ]
  },
  {
   "cell_type": "code",
   "execution_count": 1,
   "metadata": {},
   "outputs": [
    {
     "name": "stdout",
     "output_type": "stream",
     "text": [
      "Filtered words have been saved to ./cleaned-10k.csv\n"
     ]
    }
   ],
   "source": [
    "import pandas as pd\n",
    "from langdetect import detect, DetectorFactory\n",
    "from langdetect.lang_detect_exception import LangDetectException\n",
    "\n",
    "# Set seed for reproducibility\n",
    "DetectorFactory.seed = 0\n",
    "\n",
    "def is_indonesian(word):\n",
    "    try:\n",
    "        return detect(word) == 'id'\n",
    "    except LangDetectException:\n",
    "        return False\n",
    "\n",
    "def filter_indonesian_words(word_list):\n",
    "    return [word for word in word_list if is_indonesian(word)]\n",
    "\n",
    "# Baca daftar kata dari file\n",
    "input_file = './10k-indonesia-common-words.csv'\n",
    "output_file = './cleaned-10k.csv'\n",
    "\n",
    "with open(input_file, 'r') as file:\n",
    "    word_list = file.read().splitlines()\n",
    "\n",
    "# Filter kata-kata Bahasa Indonesia\n",
    "filtered_words = filter_indonesian_words(word_list)\n",
    "\n",
    "# Buat DataFrame dari kata-kata yang sudah difilter\n",
    "df = pd.DataFrame(filtered_words, columns=['Kata'])\n",
    "\n",
    "# Simpan ke file CSV\n",
    "df.to_csv(output_file, index=False)\n",
    "\n",
    "print(f\"Filtered words have been saved to {output_file}\")\n"
   ]
  }
 ],
 "metadata": {
  "kernelspec": {
   "display_name": "bangkitcourse",
   "language": "python",
   "name": "python3"
  },
  "language_info": {
   "codemirror_mode": {
    "name": "ipython",
    "version": 3
   },
   "file_extension": ".py",
   "mimetype": "text/x-python",
   "name": "python",
   "nbconvert_exporter": "python",
   "pygments_lexer": "ipython3",
   "version": "3.9.19"
  }
 },
 "nbformat": 4,
 "nbformat_minor": 2
}
