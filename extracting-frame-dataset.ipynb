{
 "cells": [
  {
   "cell_type": "code",
   "execution_count": null,
   "metadata": {},
   "outputs": [],
   "source": [
    "# Extract frames from video\n",
    "import cv2\n",
    "import os"
   ]
  },
  {
   "cell_type": "code",
   "execution_count": null,
   "metadata": {},
   "outputs": [],
   "source": [
    "video_path = \"./raw_video/Dimana/\"\n",
    "output_path = \"./frame/Dimana/\"\n",
    "\n",
    "for video_name in os.listdir(video_path):\n",
    "    video = os.path.join(video_path, video_name)\n",
    "    output = os.path.join(output_path, video_name)\n",
    "    \n",
    "    # Create directory for each video\n",
    "    os.makedirs(output, exist_ok=True)\n",
    "    \n",
    "    # Read video\n",
    "    cap = cv2.VideoCapture(video)\n",
    "    frame_count = 0\n",
    "    \n",
    "    while True:\n",
    "        ret, frame = cap.read()\n",
    "        \n",
    "        if not ret:\n",
    "            break\n",
    "        \n",
    "        frame_name = f\"{video_name}_{frame_count}.jpg\"\n",
    "        frame_path = os.path.join(output, frame_name)\n",
    "        \n",
    "        cv2.imwrite(frame_path, frame)\n",
    "        frame_count += 1\n",
    "    \n",
    "    cap.release()\n",
    "    cv2.destroyAllWindows()"
   ]
  }
 ],
 "metadata": {
  "kernelspec": {
   "display_name": "bangkitcourse",
   "language": "python",
   "name": "python3"
  },
  "language_info": {
   "codemirror_mode": {
    "name": "ipython",
    "version": 3
   },
   "file_extension": ".py",
   "mimetype": "text/x-python",
   "name": "python",
   "nbconvert_exporter": "python",
   "pygments_lexer": "ipython3",
   "version": "3.9.19"
  }
 },
 "nbformat": 4,
 "nbformat_minor": 2
}
