{
 "cells": [
  {
   "cell_type": "code",
   "execution_count": 3,
   "metadata": {},
   "outputs": [],
   "source": [
    "import joblib\n",
    "import json\n",
    "\n",
    "# Load the scaler\n",
    "scaler = joblib.load('scaler.pkl')\n",
    "scaler_data = {'mean': scaler.mean_.tolist(), 'scale': scaler.scale_.tolist()}\n",
    "    \n",
    "# Save scaler data to a JSON file\n",
    "with open('scaler.json', 'w') as f:\n",
    "    json.dump(scaler_data, f)\n"
   ]
  },
  {
   "cell_type": "code",
   "execution_count": 5,
   "metadata": {},
   "outputs": [
    {
     "name": "stderr",
     "output_type": "stream",
     "text": [
      "WARNING:absl:Please consider providing the trackable_obj argument in the from_concrete_functions. Providing without the trackable_obj argument is deprecated and it will use the deprecated conversion path.\n"
     ]
    }
   ],
   "source": [
    "import tensorflow as tf\n",
    "import json\n",
    "\n",
    "class CustomModel(tf.Module):\n",
    "    def __init__(self, model, scaler_data):\n",
    "        self.model = model\n",
    "        self.mean = tf.constant(scaler_data['mean'], dtype=tf.float32)\n",
    "        self.scale = tf.constant(scaler_data['scale'], dtype=tf.float32)\n",
    "\n",
    "    @tf.function(input_signature=[tf.TensorSpec(shape=[None, 126], dtype=tf.float32)])\n",
    "    def __call__(self, inputs):\n",
    "        # Preprocess the inputs\n",
    "        scaled_inputs = (inputs - self.mean) / self.scale\n",
    "        # Pass through the model\n",
    "        return self.model(scaled_inputs)\n",
    "\n",
    "# Load the scaler data\n",
    "with open('scaler.json', 'r') as f:\n",
    "    scaler_data = json.load(f)\n",
    "\n",
    "# Load the trained model\n",
    "model = tf.keras.models.load_model('./model-2024-06-21.h5')\n",
    "\n",
    "# Create the custom model\n",
    "custom_model = CustomModel(model, scaler_data)\n",
    "\n",
    "# Convert the custom model to TFLite\n",
    "converter = tf.lite.TFLiteConverter.from_concrete_functions([custom_model.__call__.get_concrete_function()])\n",
    "tflite_model = converter.convert()\n",
    "\n",
    "# Save the TFLite model\n",
    "with open('model_with_preprocessing.tflite', 'wb') as f:\n",
    "    f.write(tflite_model)\n"
   ]
  }
 ],
 "metadata": {
  "kernelspec": {
   "display_name": "Python 3",
   "language": "python",
   "name": "python3"
  },
  "language_info": {
   "codemirror_mode": {
    "name": "ipython",
    "version": 3
   },
   "file_extension": ".py",
   "mimetype": "text/x-python",
   "name": "python",
   "nbconvert_exporter": "python",
   "pygments_lexer": "ipython3",
   "version": "3.9.2"
  }
 },
 "nbformat": 4,
 "nbformat_minor": 2
}
