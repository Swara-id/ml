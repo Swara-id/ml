{
 "cells": [
  {
   "cell_type": "code",
   "execution_count": 66,
   "metadata": {},
   "outputs": [],
   "source": [
    "import os\n",
    "import matplotlib.pyplot as plt\n",
    "import seaborn as sns\n",
    "import matplotlib.image as mpimg\n",
    "import cv2\n",
    "import mediapipe as mp\n",
    "import os\n",
    "import subprocess\n",
    "import requests\n",
    "import pandas as pd\n",
    "from sklearn.model_selection import train_test_split\n",
    "from sklearn.preprocessing import StandardScaler\n",
    "from tensorflow.keras.models import Sequential\n",
    "from tensorflow.keras.layers import Dense\n",
    "from tensorflow.keras.utils import to_categorical"
   ]
  },
  {
   "cell_type": "markdown",
   "metadata": {},
   "source": [
    "# Prepare Data Testing Image "
   ]
  },
  {
   "cell_type": "code",
   "execution_count": 67,
   "metadata": {},
   "outputs": [
    {
     "data": {
      "text/plain": [
       "['./datasets/Testing-Image/87_kerja_1.jpg',\n",
       " './datasets/Testing-Image/8_kerja_1.jpg',\n",
       " './datasets/Testing-Image/8_malam_1.jpg',\n",
       " './datasets/Testing-Image/8_malam_2.jpg',\n",
       " './datasets/Testing-Image/8_siang_2.jpg',\n",
       " './datasets/Testing-Image/91_jawab_1.jpg',\n",
       " './datasets/Testing-Image/91_kantor_1.jpg',\n",
       " './datasets/Testing-Image/92_jawab_1.jpg',\n",
       " './datasets/Testing-Image/92_kantor_1.jpg',\n",
       " './datasets/Testing-Image/93_jawab_1.jpg',\n",
       " './datasets/Testing-Image/93_sore_1.jpg',\n",
       " './datasets/Testing-Image/95_bagaimana_1.jpg',\n",
       " './datasets/Testing-Image/95_bagaimana_2.jpg',\n",
       " './datasets/Testing-Image/96_bagaimana_1.jpg',\n",
       " './datasets/Testing-Image/96_besok_1.jpg',\n",
       " './datasets/Testing-Image/96_kemarin_2.jpg',\n",
       " './datasets/Testing-Image/96_nanti_1.jpg',\n",
       " './datasets/Testing-Image/97_lusa_1.jpg',\n",
       " './datasets/Testing-Image/97_nanti_1.jpg',\n",
       " './datasets/Testing-Image/98_sekarang_2.jpg',\n",
       " './datasets/Testing-Image/99_hari_ini1.jpg',\n",
       " './datasets/Testing-Image/99_pagi_1.jpg',\n",
       " './datasets/Testing-Image/9_besok_1.jpg',\n",
       " './datasets/Testing-Image/9_besok_2.jpg',\n",
       " './datasets/Testing-Image/9_hari_ini1.jpg',\n",
       " './datasets/Testing-Image/9_hari_ini2.jpg',\n",
       " './datasets/Testing-Image/9_kantor_1.jpg',\n",
       " './datasets/Testing-Image/9_kemarin_1.jpg',\n",
       " './datasets/Testing-Image/9_kemarin_2.jpg',\n",
       " './datasets/Testing-Image/9_kerja_1.jpg',\n",
       " './datasets/Testing-Image/9_lusa_1.jpg',\n",
       " './datasets/Testing-Image/9_lusa_2.jpg',\n",
       " './datasets/Testing-Image/9_malam_2.jpg',\n",
       " './datasets/Testing-Image/9_nanti_1.jpg',\n",
       " './datasets/Testing-Image/9_pagi_1.jpg',\n",
       " './datasets/Testing-Image/9_pagi_2.jpg',\n",
       " './datasets/Testing-Image/9_sekarang_1.jpg',\n",
       " './datasets/Testing-Image/9_sekarang_2.jpg',\n",
       " './datasets/Testing-Image/9_siang_1.jpg',\n",
       " './datasets/Testing-Image/9_siang_2.jpg',\n",
       " './datasets/Testing-Image/9_sore_1.jpg',\n",
       " './datasets/Testing-Image/9_sore_2.jpg',\n",
       " './datasets/Testing-Image/N_92.jpg']"
      ]
     },
     "execution_count": 67,
     "metadata": {},
     "output_type": "execute_result"
    }
   ],
   "source": [
    "def list_jpg_png_files(directory):\n",
    "    jpg_png_files = []\n",
    "    for root, _, files in os.walk(directory):\n",
    "        for filename in files:\n",
    "            if filename.endswith('.jpg') or filename.endswith('.png'):\n",
    "                file_path = os.path.join(root, filename)\n",
    "                file_path = file_path.replace('\\\\', '/')\n",
    "                jpg_png_files.append(file_path)\n",
    "    return jpg_png_files\n",
    "\n",
    "list_jpg_png_files('./datasets/Testing-Image')"
   ]
  },
  {
   "cell_type": "markdown",
   "metadata": {},
   "source": [
    "# Test Static Image"
   ]
  },
  {
   "cell_type": "code",
   "execution_count": 78,
   "metadata": {},
   "outputs": [
    {
     "data": {
      "text/plain": [
       "[0.25624585151672363,\n",
       " 0.7030981779098511,\n",
       " 8.205162771446339e-07,\n",
       " 0.2820224165916443,\n",
       " 0.67258220911026,\n",
       " -0.01174092385917902,\n",
       " 0.3218759298324585,\n",
       " 0.6417163014411926,\n",
       " -0.03788422793149948,\n",
       " 0.370854914188385,\n",
       " 0.6238855123519897,\n",
       " -0.06623929738998413,\n",
       " 0.404569149017334,\n",
       " 0.6145714521408081,\n",
       " -0.09345296770334244,\n",
       " 0.2556825876235962,\n",
       " 0.6104653477668762,\n",
       " -0.05811608210206032,\n",
       " 0.30842113494873047,\n",
       " 0.570963978767395,\n",
       " -0.09741616994142532,\n",
       " 0.343104749917984,\n",
       " 0.5459408164024353,\n",
       " -0.12105543166399002,\n",
       " 0.3679792284965515,\n",
       " 0.5252069234848022,\n",
       " -0.13478833436965942,\n",
       " 0.25872889161109924,\n",
       " 0.6228168606758118,\n",
       " -0.07687991112470627,\n",
       " 0.3196924328804016,\n",
       " 0.5756872296333313,\n",
       " -0.11728732287883759,\n",
       " 0.3557385802268982,\n",
       " 0.5481976270675659,\n",
       " -0.13338923454284668,\n",
       " 0.3789525032043457,\n",
       " 0.5258023142814636,\n",
       " -0.14138436317443848,\n",
       " 0.2728026509284973,\n",
       " 0.6413312554359436,\n",
       " -0.09474864602088928,\n",
       " 0.3642631769180298,\n",
       " 0.6205140948295593,\n",
       " -0.13181333243846893,\n",
       " 0.3763650059700012,\n",
       " 0.6357675194740295,\n",
       " -0.12487326562404633,\n",
       " 0.3666527271270752,\n",
       " 0.6481798887252808,\n",
       " -0.11222624033689499,\n",
       " 0.2967948615550995,\n",
       " 0.662132978439331,\n",
       " -0.11397355049848557,\n",
       " 0.3648751974105835,\n",
       " 0.6448873281478882,\n",
       " -0.1308676153421402,\n",
       " 0.37130215764045715,\n",
       " 0.6522122025489807,\n",
       " -0.11772828549146652,\n",
       " 0.36398521065711975,\n",
       " 0.6604946851730347,\n",
       " -0.10444146394729614]"
      ]
     },
     "execution_count": 78,
     "metadata": {},
     "output_type": "execute_result"
    }
   ],
   "source": [
    "def extract_hand_features(image_path):\n",
    "    mp_hands = mp.solutions.hands\n",
    "    hands = mp_hands.Hands(\n",
    "        static_image_mode=True, max_num_hands=1, min_detection_confidence=0.5\n",
    "    )\n",
    "\n",
    "    data = []\n",
    "\n",
    "    image = cv2.imread(image_path)\n",
    "    image_rgb = cv2.cvtColor(image, cv2.COLOR_BGR2RGB)\n",
    "    results = hands.process(image_rgb)\n",
    "\n",
    "    if results.multi_hand_landmarks:\n",
    "        for hand_landmarks in results.multi_hand_landmarks:\n",
    "            landmarks = []\n",
    "            for landmark in hand_landmarks.landmark:\n",
    "                landmarks.append(landmark.x)\n",
    "                landmarks.append(landmark.y)\n",
    "                landmarks.append(landmark.z)\n",
    "            data.append([os.path.basename(image_path)] + landmarks)\n",
    "\n",
    "    hands.close()\n",
    "    \n",
    "    return data\n",
    "\n",
    "sample_data = extract_hand_features('datasets/Testing-Image/ibu.jpg')[0][1:]\n",
    "sample_data"
   ]
  },
  {
   "cell_type": "markdown",
   "metadata": {},
   "source": [
    "# Test Predict"
   ]
  },
  {
   "cell_type": "code",
   "execution_count": 79,
   "metadata": {},
   "outputs": [
    {
     "name": "stdout",
     "output_type": "stream",
     "text": [
      "Model: \"sequential_1\"\n",
      "_________________________________________________________________\n",
      " Layer (type)                Output Shape              Param #   \n",
      "=================================================================\n",
      " dense_3 (Dense)             (None, 64)                4096      \n",
      "                                                                 \n",
      " dense_4 (Dense)             (None, 32)                2080      \n",
      "                                                                 \n",
      " dense_5 (Dense)             (None, 66)                2178      \n",
      "                                                                 \n",
      "=================================================================\n",
      "Total params: 8354 (32.63 KB)\n",
      "Trainable params: 8354 (32.63 KB)\n",
      "Non-trainable params: 0 (0.00 Byte)\n",
      "_________________________________________________________________\n"
     ]
    }
   ],
   "source": [
    "import tensorflow as tf\n",
    "\n",
    "model_path = 'models/12-juni-0130pm.h5'\n",
    "model = tf.keras.models.load_model(model_path)\n",
    "model.summary()"
   ]
  },
  {
   "cell_type": "code",
   "execution_count": 80,
   "metadata": {},
   "outputs": [
    {
     "name": "stdout",
     "output_type": "stream",
     "text": [
      "1/1 [==============================] - 0s 48ms/step\n"
     ]
    }
   ],
   "source": [
    "import numpy as np \n",
    "\n",
    "prepare_input_data = np.expand_dims(sample_data, axis=0)\n",
    "predictions = model.predict(prepare_input_data)"
   ]
  },
  {
   "cell_type": "code",
   "execution_count": 81,
   "metadata": {},
   "outputs": [
    {
     "data": {
      "text/plain": [
       "62"
      ]
     },
     "execution_count": 81,
     "metadata": {},
     "output_type": "execute_result"
    }
   ],
   "source": [
    "predicted_class_index = np.argmax(predictions)\n",
    "predicted_class_index"
   ]
  },
  {
   "cell_type": "code",
   "execution_count": 82,
   "metadata": {},
   "outputs": [
    {
     "data": {
      "text/plain": [
       "'W'"
      ]
     },
     "execution_count": 82,
     "metadata": {},
     "output_type": "execute_result"
    }
   ],
   "source": [
    "class_labels = ['A', 'Aku', 'Apa', 'B', 'Bagaimana', 'Baik', 'Bapak', 'Berapa',\n",
    "       'Besok', 'C', 'D', 'Dia', 'Dimana', 'E', 'F', 'G', 'H', 'Halo',\n",
    "       'Hari ini', 'I', 'Ibu', 'J', 'Jawab', 'K', 'Kalian', 'Kamu',\n",
    "       'Kantor', 'Kapan', 'Kemana', 'Kemarin', 'Kerja', 'L', 'Lelah',\n",
    "       'Lusa', 'M', 'Maaf', 'Makan', 'Malam', 'Mengapa', 'N', 'Nanti',\n",
    "       'O', 'P', 'Pagi', 'Q', 'R', 'S', 'Sabar', 'Sakit', 'Sama - sama',\n",
    "       'Sedih', 'Sekarang', 'Senang', 'Siang', 'Siapa', 'Sore', 'T',\n",
    "       'Terima kasih', 'Tidur', 'Tolong', 'U', 'V', 'W', 'X', 'Y', 'Z']\n",
    "\n",
    "\n",
    "predicted_class = class_labels[predicted_class_index]\n",
    "predicted_class"
   ]
  },
  {
   "cell_type": "markdown",
   "metadata": {},
   "source": [
    "# DIEEEEEEEEEEEEEEE"
   ]
  },
  {
   "cell_type": "markdown",
   "metadata": {},
   "source": [
    "# Function For Testing Directory"
   ]
  },
  {
   "cell_type": "code",
   "execution_count": null,
   "metadata": {},
   "outputs": [],
   "source": []
  },
  {
   "cell_type": "code",
   "execution_count": null,
   "metadata": {},
   "outputs": [],
   "source": []
  }
 ],
 "metadata": {
  "kernelspec": {
   "display_name": "bangkitcourse",
   "language": "python",
   "name": "python3"
  },
  "language_info": {
   "codemirror_mode": {
    "name": "ipython",
    "version": 3
   },
   "file_extension": ".py",
   "mimetype": "text/x-python",
   "name": "python",
   "nbconvert_exporter": "python",
   "pygments_lexer": "ipython3",
   "version": "3.9.19"
  }
 },
 "nbformat": 4,
 "nbformat_minor": 2
}
